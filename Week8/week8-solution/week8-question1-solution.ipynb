{
 "cells": [
  {
   "cell_type": "markdown",
   "id": "cab118ca",
   "metadata": {},
   "source": [
    "### create csv file for product selling for 6 months and add at-least 5 records for 5 different products"
   ]
  },
  {
   "cell_type": "markdown",
   "id": "d2797673",
   "metadata": {},
   "source": [
    "### (prod_Name,Jan,Feb,Mar,Apr,May,Jun)"
   ]
  },
  {
   "cell_type": "code",
   "execution_count": 1,
   "id": "b99b69fb",
   "metadata": {},
   "outputs": [],
   "source": [
    "import csv "
   ]
  },
  {
   "cell_type": "code",
   "execution_count": 2,
   "id": "64854a62",
   "metadata": {},
   "outputs": [],
   "source": [
    "d = [\n",
    "    [\"Prod_Name\", \"Jan\", \"Feb\", \"Mar\", \"Apr\", \"May\", \"Jun\"],\n",
    "    [\"Product A\", 150, 125, 140, 250, 580, 520],\n",
    "    [\"Product B\", 80, 90, 100, 110, 120, 130],\n",
    "    [\"Product C\", 55, 50, 40, 65, 78, 70],\n",
    "    [\"Product D\", 210, 230, 240, 250, 260, 270],\n",
    "    [\"Product E\", 70, 75, 80, 85, 90, 110],\n",
    "]"
   ]
  },
  {
   "cell_type": "code",
   "execution_count": 4,
   "id": "2eedcc19",
   "metadata": {},
   "outputs": [
    {
     "name": "stdout",
     "output_type": "stream",
     "text": [
      "CSV file 'product_sales.csv' has been created.\n"
     ]
    }
   ],
   "source": [
    "with open('product_sales.csv', 'w', newline='') as csv_file:\n",
    "    csv_writer = csv.writer(csv_file)\n",
    "    csv_writer.writerows(d)\n",
    "\n",
    "print(\"CSV file 'product_sales.csv' has been created.\")"
   ]
  },
  {
   "cell_type": "code",
   "execution_count": 10,
   "id": "0fd160d6",
   "metadata": {},
   "outputs": [],
   "source": [
    "def read_csv_file(filename):\n",
    "    d = []\n",
    "    with open(filename, 'r') as csv_file:\n",
    "        csv_reader = csv.DictReader(csv_file)\n",
    "        for row in csv_reader:\n",
    "            d.append(row)\n",
    "        return d"
   ]
  },
  {
   "cell_type": "code",
   "execution_count": 11,
   "id": "c9da6f42",
   "metadata": {},
   "outputs": [],
   "source": [
    "def calculate_total_sales(data, month):\n",
    "    total_sales = 0\n",
    "    for row in data:\n",
    "        total_sales += int(row[month])\n",
    "    return total_sales"
   ]
  },
  {
   "cell_type": "code",
   "execution_count": 12,
   "id": "d9e4fabf",
   "metadata": {},
   "outputs": [],
   "source": [
    "def find_best_selling_product(data, month):\n",
    "    max_sales = 0\n",
    "    best_product = \"\"\n",
    "    for row in data:\n",
    "        if int(row[month]) > max_sales:\n",
    "            max_sales = int(row[month])\n",
    "            best_product = row[\"Prod_Name\"]\n",
    "    return best_product, max_sales"
   ]
  },
  {
   "cell_type": "markdown",
   "id": "6764947a",
   "metadata": {},
   "source": [
    "### Read the CSV file"
   ]
  },
  {
   "cell_type": "code",
   "execution_count": 13,
   "id": "78c66db2",
   "metadata": {},
   "outputs": [],
   "source": [
    "filename = 'product_sales.csv'\n",
    "d = read_csv_file(filename)"
   ]
  },
  {
   "cell_type": "markdown",
   "id": "78122949",
   "metadata": {},
   "source": [
    "### Calculate and display total sales for January"
   ]
  },
  {
   "cell_type": "code",
   "execution_count": 15,
   "id": "4fe5bbfd",
   "metadata": {},
   "outputs": [
    {
     "name": "stdout",
     "output_type": "stream",
     "text": [
      "Total sales for January: 565\n"
     ]
    }
   ],
   "source": [
    "jan_total_sales = calculate_total_sales(d, \"Jan\")\n",
    "print(f\"Total sales for January: {jan_total_sales}\")"
   ]
  },
  {
   "cell_type": "markdown",
   "id": "151a43dc",
   "metadata": {},
   "source": [
    "### Find and display the best-selling product for February"
   ]
  },
  {
   "cell_type": "code",
   "execution_count": 24,
   "id": "0e1f152d",
   "metadata": {},
   "outputs": [
    {
     "name": "stdout",
     "output_type": "stream",
     "text": [
      "Best-selling product in February: Product D (Sales: 230)\n"
     ]
    }
   ],
   "source": [
    "best_product_feb, sales_feb = find_best_selling_product(d, \"Feb\")\n",
    "print(f\"Best-selling product in February: {best_product_feb} (Sales: {sales_feb})\")"
   ]
  },
  {
   "cell_type": "markdown",
   "id": "dedc0798",
   "metadata": {},
   "source": [
    "### A.Read data in Dataframe."
   ]
  },
  {
   "cell_type": "code",
   "execution_count": 18,
   "id": "17d8ffbb",
   "metadata": {},
   "outputs": [],
   "source": [
    "import pandas as pd"
   ]
  },
  {
   "cell_type": "code",
   "execution_count": 19,
   "id": "bb3f922c",
   "metadata": {},
   "outputs": [
    {
     "data": {
      "text/html": [
       "<div>\n",
       "<style scoped>\n",
       "    .dataframe tbody tr th:only-of-type {\n",
       "        vertical-align: middle;\n",
       "    }\n",
       "\n",
       "    .dataframe tbody tr th {\n",
       "        vertical-align: top;\n",
       "    }\n",
       "\n",
       "    .dataframe thead th {\n",
       "        text-align: right;\n",
       "    }\n",
       "</style>\n",
       "<table border=\"1\" class=\"dataframe\">\n",
       "  <thead>\n",
       "    <tr style=\"text-align: right;\">\n",
       "      <th></th>\n",
       "      <th>Prod_Name</th>\n",
       "      <th>Jan</th>\n",
       "      <th>Feb</th>\n",
       "      <th>Mar</th>\n",
       "      <th>Apr</th>\n",
       "      <th>May</th>\n",
       "      <th>Jun</th>\n",
       "    </tr>\n",
       "  </thead>\n",
       "  <tbody>\n",
       "    <tr>\n",
       "      <th>0</th>\n",
       "      <td>Product A</td>\n",
       "      <td>150</td>\n",
       "      <td>125</td>\n",
       "      <td>140</td>\n",
       "      <td>250</td>\n",
       "      <td>580</td>\n",
       "      <td>520</td>\n",
       "    </tr>\n",
       "    <tr>\n",
       "      <th>1</th>\n",
       "      <td>Product B</td>\n",
       "      <td>80</td>\n",
       "      <td>90</td>\n",
       "      <td>100</td>\n",
       "      <td>110</td>\n",
       "      <td>120</td>\n",
       "      <td>130</td>\n",
       "    </tr>\n",
       "    <tr>\n",
       "      <th>2</th>\n",
       "      <td>Product C</td>\n",
       "      <td>55</td>\n",
       "      <td>50</td>\n",
       "      <td>40</td>\n",
       "      <td>65</td>\n",
       "      <td>78</td>\n",
       "      <td>70</td>\n",
       "    </tr>\n",
       "    <tr>\n",
       "      <th>3</th>\n",
       "      <td>Product D</td>\n",
       "      <td>210</td>\n",
       "      <td>230</td>\n",
       "      <td>240</td>\n",
       "      <td>250</td>\n",
       "      <td>260</td>\n",
       "      <td>270</td>\n",
       "    </tr>\n",
       "    <tr>\n",
       "      <th>4</th>\n",
       "      <td>Product E</td>\n",
       "      <td>70</td>\n",
       "      <td>75</td>\n",
       "      <td>80</td>\n",
       "      <td>85</td>\n",
       "      <td>90</td>\n",
       "      <td>110</td>\n",
       "    </tr>\n",
       "  </tbody>\n",
       "</table>\n",
       "</div>"
      ],
      "text/plain": [
       "   Prod_Name  Jan  Feb  Mar  Apr  May  Jun\n",
       "0  Product A  150  125  140  250  580  520\n",
       "1  Product B   80   90  100  110  120  130\n",
       "2  Product C   55   50   40   65   78   70\n",
       "3  Product D  210  230  240  250  260  270\n",
       "4  Product E   70   75   80   85   90  110"
      ]
     },
     "execution_count": 19,
     "metadata": {},
     "output_type": "execute_result"
    }
   ],
   "source": [
    "df = pd.read_csv('product_sales.csv')\n",
    "df"
   ]
  },
  {
   "cell_type": "markdown",
   "id": "293ac68f",
   "metadata": {},
   "source": [
    "### B.Add columns and calculate total_sell, average_sell."
   ]
  },
  {
   "cell_type": "code",
   "execution_count": 25,
   "id": "37ab6abe",
   "metadata": {},
   "outputs": [],
   "source": [
    "import pandas as pd"
   ]
  },
  {
   "cell_type": "code",
   "execution_count": 26,
   "id": "27f481d5",
   "metadata": {},
   "outputs": [
    {
     "data": {
      "text/html": [
       "<div>\n",
       "<style scoped>\n",
       "    .dataframe tbody tr th:only-of-type {\n",
       "        vertical-align: middle;\n",
       "    }\n",
       "\n",
       "    .dataframe tbody tr th {\n",
       "        vertical-align: top;\n",
       "    }\n",
       "\n",
       "    .dataframe thead th {\n",
       "        text-align: right;\n",
       "    }\n",
       "</style>\n",
       "<table border=\"1\" class=\"dataframe\">\n",
       "  <thead>\n",
       "    <tr style=\"text-align: right;\">\n",
       "      <th></th>\n",
       "      <th>Prod_Name</th>\n",
       "      <th>Jan</th>\n",
       "      <th>Feb</th>\n",
       "      <th>Mar</th>\n",
       "      <th>Apr</th>\n",
       "      <th>May</th>\n",
       "      <th>Jun</th>\n",
       "      <th>total_sell</th>\n",
       "      <th>average_sell</th>\n",
       "    </tr>\n",
       "  </thead>\n",
       "  <tbody>\n",
       "    <tr>\n",
       "      <th>0</th>\n",
       "      <td>Product A</td>\n",
       "      <td>150</td>\n",
       "      <td>125</td>\n",
       "      <td>140</td>\n",
       "      <td>250</td>\n",
       "      <td>580</td>\n",
       "      <td>520</td>\n",
       "      <td>1765</td>\n",
       "      <td>504.285714</td>\n",
       "    </tr>\n",
       "    <tr>\n",
       "      <th>1</th>\n",
       "      <td>Product B</td>\n",
       "      <td>80</td>\n",
       "      <td>90</td>\n",
       "      <td>100</td>\n",
       "      <td>110</td>\n",
       "      <td>120</td>\n",
       "      <td>130</td>\n",
       "      <td>630</td>\n",
       "      <td>180.000000</td>\n",
       "    </tr>\n",
       "    <tr>\n",
       "      <th>2</th>\n",
       "      <td>Product C</td>\n",
       "      <td>55</td>\n",
       "      <td>50</td>\n",
       "      <td>40</td>\n",
       "      <td>65</td>\n",
       "      <td>78</td>\n",
       "      <td>70</td>\n",
       "      <td>358</td>\n",
       "      <td>102.285714</td>\n",
       "    </tr>\n",
       "    <tr>\n",
       "      <th>3</th>\n",
       "      <td>Product D</td>\n",
       "      <td>210</td>\n",
       "      <td>230</td>\n",
       "      <td>240</td>\n",
       "      <td>250</td>\n",
       "      <td>260</td>\n",
       "      <td>270</td>\n",
       "      <td>1460</td>\n",
       "      <td>417.142857</td>\n",
       "    </tr>\n",
       "    <tr>\n",
       "      <th>4</th>\n",
       "      <td>Product E</td>\n",
       "      <td>70</td>\n",
       "      <td>75</td>\n",
       "      <td>80</td>\n",
       "      <td>85</td>\n",
       "      <td>90</td>\n",
       "      <td>110</td>\n",
       "      <td>510</td>\n",
       "      <td>145.714286</td>\n",
       "    </tr>\n",
       "  </tbody>\n",
       "</table>\n",
       "</div>"
      ],
      "text/plain": [
       "   Prod_Name  Jan  Feb  Mar  Apr  May  Jun  total_sell  average_sell\n",
       "0  Product A  150  125  140  250  580  520        1765    504.285714\n",
       "1  Product B   80   90  100  110  120  130         630    180.000000\n",
       "2  Product C   55   50   40   65   78   70         358    102.285714\n",
       "3  Product D  210  230  240  250  260  270        1460    417.142857\n",
       "4  Product E   70   75   80   85   90  110         510    145.714286"
      ]
     },
     "execution_count": 26,
     "metadata": {},
     "output_type": "execute_result"
    }
   ],
   "source": [
    "df = pd.read_csv('product_sales.csv')\n",
    "df['total_sell'] = df.sum(axis=1, numeric_only=True)\n",
    "df['average_sell'] = df.iloc[:, 1:].mean(axis=1)\n",
    "df"
   ]
  },
  {
   "cell_type": "markdown",
   "id": "3d7d7ae9",
   "metadata": {},
   "source": [
    "### C.Plot Total sell and average sell together on line chart with proper Legends, titles and lables. "
   ]
  },
  {
   "cell_type": "code",
   "execution_count": 27,
   "id": "da74eb69",
   "metadata": {},
   "outputs": [],
   "source": [
    "import pandas as pd\n",
    "import matplotlib.pyplot as plt"
   ]
  },
  {
   "cell_type": "code",
   "execution_count": 28,
   "id": "9b060121",
   "metadata": {},
   "outputs": [
    {
     "data": {
      "image/png": "[encoded data removed]",
      "text/plain": [
       "<Figure size 1000x600 with 1 Axes>"
      ]
     },
     "metadata": {},
     "output_type": "display_data"
    }
   ],
   "source": [
    "df = pd.read_csv('product_sales.csv')\n",
    "df['total_sell'] = df.sum(axis=1, numeric_only=True)\n",
    "df['average_sell'] = df.iloc[:, 1:].mean(axis=1)\n",
    "plt.figure(figsize=(10, 6))  # Set the figure size\n",
    "plt.plot(df['Prod_Name'], df['total_sell'], label='Total Sell', marker='o')\n",
    "plt.plot(df['Prod_Name'], df['average_sell'], label='Average Sell', marker='o')\n",
    "plt.xlabel('Products')\n",
    "plt.ylabel('Sales')\n",
    "plt.title('Total Sell and Average Sell for Products')\n",
    "plt.xticks(rotation=45)\n",
    "plt.legend()\n",
    "plt.grid(True)\n",
    "plt.tight_layout()\n",
    "plt.show()"
   ]
  },
  {
   "cell_type": "markdown",
   "id": "ffb0eb9f",
   "metadata": {},
   "source": [
    "### D.Explain final dataframe to csv named sell_analysis.csv "
   ]
  },
  {
   "cell_type": "code",
   "execution_count": 29,
   "id": "d0f17f64",
   "metadata": {},
   "outputs": [],
   "source": [
    "import pandas as pd"
   ]
  },
  {
   "cell_type": "code",
   "execution_count": 30,
   "id": "14ae8ebf",
   "metadata": {},
   "outputs": [
    {
     "name": "stdout",
     "output_type": "stream",
     "text": [
      "DataFrame saved to 'sell_analysis.csv'\n"
     ]
    }
   ],
   "source": [
    "df = pd.read_csv('product_sales.csv')\n",
    "df['total_sell'] = df.sum(axis=1, numeric_only=True)\n",
    "df['average_sell'] = df.iloc[:, 1:].mean(axis=1)\n",
    "df.to_csv('sell_analysis.csv', index=False)\n",
    "print(\"DataFrame saved to 'sell_analysis.csv'\")"
   ]
  },
  {
   "cell_type": "code",
   "execution_count": null,
   "id": "97d41bfa",
   "metadata": {},
   "outputs": [],
   "source": []
  }
 ],
 "metadata": {
  "kernelspec": {
   "display_name": "Python 3 (ipykernel)",
   "language": "python",
   "name": "python3"
  },
  "language_info": {
   "codemirror_mode": {
    "name": "ipython",
    "version": 3
   },
   "file_extension": ".py",
   "mimetype": "text/x-python",
   "name": "python",
   "nbconvert_exporter": "python",
   "pygments_lexer": "ipython3",
   "version": "3.9.6"
  }
 },
 "nbformat": 4,
 "nbformat_minor": 5
}
